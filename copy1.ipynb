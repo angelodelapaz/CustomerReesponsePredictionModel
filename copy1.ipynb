{
 "cells": [
  {
   "cell_type": "markdown",
   "id": "aa91a097-f688-4c13-933a-d82cef2d5a67",
   "metadata": {},
   "source": [
    "## Context"
   ]
  },
  {
   "cell_type": "markdown",
   "id": "9ffc2d9a-659d-4410-ab00-1376996ef6e6",
   "metadata": {},
   "source": [
    "ABC Supermarket is planning for the year-end sale - they want to launch a new offer i.e. gold membership for only \\\\$499 that is of \\\\$999 on normal days (that gives 20% discount on all purchases) only for existing customers, for that they need to do a campaign through phone calls - the best way to reduce the cost of the campaign is to make a predictive model to classify customers who might purchase the offer, using the data they gathered during last year's campaign.\n",
    "\n",
    "We will build a model for classifying whether customers will reply with a positive\n",
    "response or not."
   ]
  },
  {
   "cell_type": "markdown",
   "id": "d2abac34-5aea-4508-bae3-9d2104624fde",
   "metadata": {},
   "source": [
    "## Import Statements"
   ]
  },
  {
   "cell_type": "code",
   "execution_count": null,
   "id": "f5011d9f-b3a9-4684-8ae7-47444ddf4fb3",
   "metadata": {},
   "outputs": [],
   "source": [
    "# Preprocessing Imports\n",
    "from sklearn.metrics import accuracy_score, precision_score, recall_score, f1_score, confusion_matrix, roc_auc_score\n",
    "from sklearn.model_selection import GridSearchCV, train_test_split, cross_val_score, KFold\n",
    "from sklearn.preprocessing import StandardScaler\n",
    "from imblearn.over_sampling import RandomOverSampler, SMOTE\n",
    "from imblearn.under_sampling import RandomUnderSampler, NearMiss\n",
    "\n",
    "# Model Imports\n",
    "from sklearn.linear_model import LogisticRegression\n",
    "from sklearn.naive_bayes import GaussianNB\n",
    "from sklearn.tree import DecisionTreeClassifier\n",
    "from sklearn.svm import SVC\n",
    "from sklearn.neighbors import KNeighborsClassifier\n",
    "\n",
    "# Ensemble Imports\n",
    "from sklearn.ensemble import RandomForestClassifier\n",
    "from sklearn.ensemble import AdaBoostClassifier\n",
    "\n",
    "# Visualization Imports\n",
    "import matplotlib.pyplot as plt\n",
    "import seaborn as sns\n",
    "import pandas as pd\n",
    "import numpy as np"
   ]
  },
  {
   "cell_type": "code",
   "execution_count": null,
   "id": "97acb5b2-958a-4556-8a20-dcab3b7c81b4",
   "metadata": {},
   "outputs": [],
   "source": [
    "df = pd.read_excel(\"marketing_data.xlsx\")"
   ]
  },
  {
   "cell_type": "code",
   "execution_count": null,
   "id": "5814b968-788e-4cfe-af4d-11404029c81e",
   "metadata": {},
   "outputs": [],
   "source": [
    "df.shape"
   ]
  },
  {
   "cell_type": "code",
   "execution_count": null,
   "id": "db7b5c55",
   "metadata": {},
   "outputs": [],
   "source": [
    "df"
   ]
  },
  {
   "cell_type": "markdown",
   "id": "bdde78f5-3aba-41b5-a6bb-63b2ea972253",
   "metadata": {},
   "source": [
    "## Column Definitions\n",
    "- Response (target) - 1 if customer accepted the offer in the last campaign, 0\n",
    "otherwise\n",
    "- Complain - 1 if a customer complained in the last 2 years\n",
    "- DtCustomer - date of customer’s enrolment with the company\n",
    "- Education - customer’s level of education\n",
    "- Marital - customer’s marital status\n",
    "- Kidhome - number of small children in customer’s household\n",
    "- Teenhome - number of teenagers in customer’s household\n",
    "- Income - customer’s yearly household income\n",
    "- MntFishProducts - the amount spent on fish products in the last 2 years\n",
    "- MntMeatProducts - the amount spent on meat products in the last 2 years\n",
    "- MntFruits - the amount spent on fruits products in the last 2 years\n",
    "- MntSweetProducts - amount spent on sweet products in the last 2 years\n",
    "- MntWines - the amount spent on wine products in the last 2 years\n",
    "- MntGoldProds - the amount spent on gold products in the last 2 years\n",
    "- NumDealsPurchases - number of purchases made with discount\n",
    "- NumCatalogPurchases - number of purchases made using catalog\n",
    "- NumStorePurchases - number of purchases made directly in stores\n",
    "- NumWebPurchases - number of purchases made through the company’s web site\n",
    "- NumWebVisitsMonth - number of visits to company’s web site in the last month\n",
    "- Recency - number of days since the last purchase\n",
    "- ID - unique customer-id\n",
    "- Year_Birth - customer's year of birth ( Can be converted to age)"
   ]
  },
  {
   "cell_type": "markdown",
   "id": "00f076d8-6341-43ec-a276-3eae6e834849",
   "metadata": {},
   "source": [
    "## Data Profiling"
   ]
  },
  {
   "cell_type": "markdown",
   "id": "dddbf95c",
   "metadata": {},
   "source": [
    "### Data Types and list of Unique Rows"
   ]
  },
  {
   "cell_type": "code",
   "execution_count": null,
   "id": "f3c36aaf-00b9-4831-ac22-905e9f7eacea",
   "metadata": {},
   "outputs": [],
   "source": [
    "df.info()"
   ]
  },
  {
   "cell_type": "code",
   "execution_count": null,
   "id": "b47ea84e-aae5-4b37-a3fc-bcb95d1867e5",
   "metadata": {},
   "outputs": [],
   "source": [
    "df.isnull().sum()"
   ]
  },
  {
   "cell_type": "code",
   "execution_count": null,
   "id": "46094609",
   "metadata": {},
   "outputs": [],
   "source": [
    "df['Education'].unique()\n"
   ]
  },
  {
   "cell_type": "code",
   "execution_count": null,
   "id": "2e01d269",
   "metadata": {},
   "outputs": [],
   "source": [
    "df['Marital_Status'].unique()\n"
   ]
  },
  {
   "cell_type": "code",
   "execution_count": null,
   "id": "d819821e",
   "metadata": {},
   "outputs": [],
   "source": [
    "df['Recency'].unique()"
   ]
  },
  {
   "cell_type": "code",
   "execution_count": null,
   "id": "895b37bf",
   "metadata": {},
   "outputs": [],
   "source": [
    "df.describe()"
   ]
  },
  {
   "cell_type": "markdown",
   "id": "9331d0d9-6a22-4291-b17b-7a1c40307252",
   "metadata": {},
   "source": [
    "## Initial Exploratory Data Analysis"
   ]
  },
  {
   "cell_type": "markdown",
   "id": "ab6435b4",
   "metadata": {},
   "source": [
    "### Outlier Detection"
   ]
  },
  {
   "cell_type": "code",
   "execution_count": null,
   "id": "686a017c",
   "metadata": {},
   "outputs": [],
   "source": [
    "import datetime\n",
    "\n",
    "current_year = datetime.datetime.now().year\n",
    "df['Age'] = current_year - df['Year_Birth']\n"
   ]
  },
  {
   "cell_type": "code",
   "execution_count": null,
   "id": "15b10647",
   "metadata": {},
   "outputs": [],
   "source": [
    "df.loc[df.Income.isnull(), 'Income'] = np.nanmean(df.Income)"
   ]
  },
  {
   "cell_type": "markdown",
   "id": "c6d992f4",
   "metadata": {},
   "source": [
    "'Year of Birth' is changed to 'Age' for ease of use and null Income rows are replaced with the mean of the Income column"
   ]
  },
  {
   "cell_type": "code",
   "execution_count": null,
   "id": "1673048a",
   "metadata": {},
   "outputs": [],
   "source": [
    "fig, ax = plt.subplots()\n",
    "\n",
    "sns.scatterplot(df, x='Age', y='Income', ax=ax, color='blue')\n",
    "\n",
    "plt.show()"
   ]
  },
  {
   "cell_type": "markdown",
   "id": "2c44e05e",
   "metadata": {},
   "source": [
    "The graph above shows several outliers in the 'Age' and 'Income' Columns which are needed to be addressed to improve metrics"
   ]
  },
  {
   "cell_type": "markdown",
   "id": "ec32cfbc",
   "metadata": {},
   "source": [
    "### Response Percentage"
   ]
  },
  {
   "cell_type": "code",
   "execution_count": null,
   "id": "06568e8a-b9eb-4c2b-84bc-96336e158c3c",
   "metadata": {},
   "outputs": [],
   "source": [
    "colors = sns.color_palette('pastel')[0:len(df['Response'].value_counts())]\n",
    "\n",
    "#create pie chart\n",
    "plt.pie(df['Response'].value_counts(), labels=['Didnt Accept', 'Accepted'], colors = colors, autopct='%.0f%%')\n",
    "plt.legend()\n",
    "plt.show()"
   ]
  },
  {
   "cell_type": "markdown",
   "id": "2fb5e3b7",
   "metadata": {},
   "source": [
    "Classification algorithms tend to be biased towards the majority class. This can lead to poor performance in identifying the minority class, even though it might be the class of interest."
   ]
  },
  {
   "cell_type": "markdown",
   "id": "6a1f8ac9",
   "metadata": {},
   "source": [
    "As shown above, there is a great imbalance between rows that accepted and did not accept calls. This should be balanced in order to maximize model precision and recall metrics."
   ]
  },
  {
   "cell_type": "code",
   "execution_count": null,
   "id": "6723da54-c80b-40ef-a02a-476c0f65538d",
   "metadata": {},
   "outputs": [],
   "source": [
    "colors = sns.color_palette('pastel')[0:len(df['Complain'].value_counts())]\n",
    "\n",
    "#create pie chart\n",
    "plt.pie(df['Complain'].value_counts(), labels=['Didnt Complain', 'Complained'], colors = colors, autopct='%.0f%%')\n",
    "plt.legend()\n",
    "plt.show()"
   ]
  },
  {
   "cell_type": "markdown",
   "id": "61876530",
   "metadata": {},
   "source": [
    "Similar to the response column, there is also a large contrast in people that complained vs didn't complain. "
   ]
  },
  {
   "cell_type": "code",
   "execution_count": null,
   "id": "4eb53c83-8f8f-4c8f-bfa5-2da0673cf881",
   "metadata": {},
   "outputs": [],
   "source": [
    "fig, axes = plt.subplots(ncols=2, nrows=1, figsize=(12, 4))\n",
    "\n",
    "for i, ax, col in zip(range(2), axes.flat, ['Kidhome', 'Teenhome']):\n",
    "    tmp = df[[col, 'Response']].value_counts().to_frame().reset_index()\n",
    "    tmp['Response'] = tmp['Response'].replace({0: 'Didnt Accept', 1: 'Accepted'})\n",
    "\n",
    "    sns.barplot(x = col, y='count', \n",
    "                   hue = 'Response',data=tmp, ax=ax)\n",
    "    \n",
    "plt.show()"
   ]
  },
  {
   "cell_type": "markdown",
   "id": "82736396",
   "metadata": {},
   "source": [
    "### Categorical Feature Analysis"
   ]
  },
  {
   "cell_type": "code",
   "execution_count": null,
   "id": "a72942ae",
   "metadata": {},
   "outputs": [],
   "source": [
    "categorical_cols = ['Education', 'Marital_Status', 'Kidhome', 'Teenhome', 'NumDealsPurchases', 'NumWebPurchases',\n",
    "       'NumCatalogPurchases', 'NumStorePurchases', 'NumWebVisitsMonth', 'Complain']\n",
    "\n",
    "fig, ax = plt.subplots(ncols=2, nrows=5, figsize=(16, 18))\n",
    "\n",
    "cont = 0\n",
    "for i in range(5):\n",
    "    for j in range(2):\n",
    "        sns.countplot(df, x=categorical_cols[cont], hue='Response', ax=ax[i][j], palette='Set2')\n",
    "        \n",
    "        ax[i][j].set_title(categorical_cols[cont])\n",
    "        ax[i][j].set_ylabel('')\n",
    "        ax[i][j].set_xlabel('')\n",
    "        \n",
    "        cont = cont + 1\n",
    "        \n",
    "plt.show()"
   ]
  },
  {
   "cell_type": "markdown",
   "id": "45896e4a",
   "metadata": {},
   "source": [
    "### Continuous feature Analysis"
   ]
  },
  {
   "cell_type": "code",
   "execution_count": null,
   "id": "c4879207-640e-4de6-b239-f73acd2df4ae",
   "metadata": {},
   "outputs": [],
   "source": [
    "Continuous_cols = ['Age', 'Income', 'Recency', 'MntFishProducts', 'MntMeatProducts', 'MntFruits', 'MntSweetProducts', 'MntWines', 'MntGoldProds']\n",
    "\n",
    "fig, axes = plt.subplots(ncols=3, nrows=3, figsize=(12, 10))\n",
    "\n",
    "for i, ax, col in zip(range(9), axes.flat, Continuous_cols):\n",
    "    sns.kdeplot(df, x=col, hue='Response', fill=True, ax=ax)\n",
    "    \n",
    "plt.show()"
   ]
  },
  {
   "cell_type": "markdown",
   "id": "f0dee411",
   "metadata": {},
   "source": [
    "According to the graphs above, the actual values of MnTMeatProducts and MntWines are significantly higher than other categories which may lead to more distant outliers."
   ]
  },
  {
   "cell_type": "markdown",
   "id": "3c488aa1",
   "metadata": {},
   "source": [
    "## Data Preprocessing"
   ]
  },
  {
   "cell_type": "markdown",
   "id": "15ddd5b1",
   "metadata": {},
   "source": [
    "### Outlier Removal "
   ]
  },
  {
   "cell_type": "code",
   "execution_count": null,
   "id": "82437989",
   "metadata": {},
   "outputs": [],
   "source": [
    "df.drop(df.index[df.Age >= 80], inplace=True)\n",
    "df.drop(df.index[df.Income >= 200000], inplace=True)\n",
    "\n",
    "df.drop(df.index[df.MntMeatProducts > 1000], inplace=True)\n",
    "df.drop(df.index[df.MntWines > 1500], inplace=True)\n",
    "df.drop(df.index[df.MntSweetProducts > 220], inplace=True)\n",
    "df.drop(df.index[df.MntGoldProds > 270], inplace=True)"
   ]
  },
  {
   "cell_type": "markdown",
   "id": "aa4e950d",
   "metadata": {},
   "source": [
    "The above column's outliers were dropped seeing that the number of outliers are more distant than other columns with outliers"
   ]
  },
  {
   "cell_type": "markdown",
   "id": "fc7c28d1-97f0-4b25-a53a-67e68a28807b",
   "metadata": {},
   "source": [
    "## Baseline Modelling"
   ]
  },
  {
   "cell_type": "markdown",
   "id": "022d9298",
   "metadata": {},
   "source": [
    "### Feature Selection"
   ]
  },
  {
   "cell_type": "code",
   "execution_count": null,
   "id": "e16403a7-e942-4dd2-a06c-f628ffc02628",
   "metadata": {},
   "outputs": [],
   "source": [
    "X = df.drop('Response', axis=1).iloc[:,1:][\n",
    "     [\n",
    "     #'Dt_Customer',\n",
    "     'Age',\n",
    "     'Education',\n",
    "     'Marital_Status',\n",
    "     'MntFishProducts', \n",
    "     'MntMeatProducts', \n",
    "     'MntFruits', \n",
    "     'MntSweetProducts', \n",
    "     'MntWines', \n",
    "     'MntGoldProds',\n",
    "     'Income',\n",
    "     #'Complain',\n",
    "     #'Kidhome',\n",
    "     'Teenhome',  \n",
    "     'NumDealsPurchases',  \n",
    "     'NumCatalogPurchases', \n",
    "     'NumStorePurchases', \n",
    "     'NumWebPurchases',  \n",
    "     #'NumWebVisitsMonth',  \n",
    "     'Recency'  \n",
    "    ]]\n",
    "\n",
    "\n",
    "y = df['Response']\n",
    "\n"
   ]
  },
  {
   "cell_type": "code",
   "execution_count": null,
   "id": "fd0d61b3",
   "metadata": {},
   "outputs": [],
   "source": [
    "X"
   ]
  },
  {
   "cell_type": "code",
   "execution_count": null,
   "id": "9585fae3",
   "metadata": {},
   "outputs": [],
   "source": [
    "from sklearn.preprocessing import OrdinalEncoder\n",
    "\n",
    "# Replace Marital_Status values\n",
    "marital_status_mapping = {\n",
    "    'Widow': 'Single',\n",
    "    'Alone': 'Single',\n",
    "    'Absurd': 'Single',\n",
    "    'YOLO': 'Single',\n",
    "    'Together': 'Married'\n",
    "}\n",
    "\n",
    "for status in marital_status_mapping:\n",
    "    X.loc[X['Marital_Status'] == status, 'Marital_Status'] = marital_status_mapping[status]\n",
    "\n",
    "# Replace Education values\n",
    "education_mapping = {\n",
    "    'Graduation': 'Bachelors',\n",
    "    '2n Cycle': 'Master',\n",
    "    'Basic': 'High School'\n",
    "}\n",
    "\n",
    "for edu in education_mapping:\n",
    "    X.loc[X['Education'] == edu, 'Education'] = education_mapping[edu]\n",
    "\n",
    "# Ordinal encode the Education column\n",
    "ordinal_encoder = OrdinalEncoder(categories=[['High School', 'Bachelors', 'Master', 'PhD']])\n",
    "X['Education'] = ordinal_encoder.fit_transform(X[['Education']])\n",
    "\n",
    "def one_hot_encode(data, column):\n",
    "    encoded = pd.get_dummies(data[column], drop_first=True)\n",
    "    data = data.drop(column, axis=1)\n",
    "    data = data.join(encoded)\n",
    "    return data\n",
    "\n",
    "X = one_hot_encode(X, 'Marital_Status')\n"
   ]
  },
  {
   "cell_type": "code",
   "execution_count": null,
   "id": "f95401b0",
   "metadata": {},
   "outputs": [],
   "source": [
    "fig, ax = plt.subplots(figsize=(16, 16))\n",
    "\n",
    "sns.heatmap(X.corr(), ax=ax, cmap='crest')\n",
    "\n",
    "plt.show()"
   ]
  },
  {
   "cell_type": "code",
   "execution_count": null,
   "id": "a57e0613",
   "metadata": {},
   "outputs": [],
   "source": [
    "# X_train, X_test, y_train, y_test = train_test_split(X, y, test_size=0.3, random_state=42, stratify=y)"
   ]
  },
  {
   "cell_type": "markdown",
   "id": "a97cbb09",
   "metadata": {},
   "source": [
    "### Oversampling "
   ]
  },
  {
   "cell_type": "code",
   "execution_count": null,
   "id": "792e3cca",
   "metadata": {},
   "outputs": [],
   "source": [
    "ros = RandomOverSampler()\n",
    "X_resampled, y_resampled = ros.fit_resample(X, y)\n",
    "\n",
    "X_resampled.shape, y_resampled.shape"
   ]
  },
  {
   "cell_type": "code",
   "execution_count": null,
   "id": "46f33980",
   "metadata": {},
   "outputs": [],
   "source": [
    "# sm = SMOTE(random_state=42)\n",
    "# X_resampled, y_resampled = sm.fit_resample(X, y)\n",
    "\n",
    "# X_resampled.shape, y_resampled.shape"
   ]
  },
  {
   "cell_type": "markdown",
   "id": "16001305",
   "metadata": {},
   "source": [
    "### Undersampling"
   ]
  },
  {
   "cell_type": "code",
   "execution_count": null,
   "id": "5aae0f0e",
   "metadata": {},
   "outputs": [],
   "source": [
    "# rus = RandomUnderSampler()\n",
    "# X_resampled, y_resampled = rus.fit_resample(X, y)\n",
    "\n",
    "# X_resampled.shape, y_resampled.shape"
   ]
  },
  {
   "cell_type": "code",
   "execution_count": null,
   "id": "78220486",
   "metadata": {},
   "outputs": [],
   "source": [
    "# nm = NearMiss()\n",
    "# X_resampled, y_resampled = nm.fit_resample(X, y)\n",
    "\n",
    "# X_resampled.shape, y_resampled.shape"
   ]
  },
  {
   "cell_type": "code",
   "execution_count": null,
   "id": "b413534e",
   "metadata": {},
   "outputs": [],
   "source": [
    "colors = sns.color_palette('pastel')[0:len(y.value_counts())]\n",
    "\n",
    "#create pie chart\n",
    "plt.pie(y_resampled.value_counts(), labels=['Didnt Accept', 'Accepted'], colors = colors, autopct='%.0f%%')\n",
    "plt.legend()\n",
    "plt.show()\n"
   ]
  },
  {
   "cell_type": "code",
   "execution_count": null,
   "id": "d789e90d",
   "metadata": {},
   "outputs": [],
   "source": [
    "X_train, X_test, y_train, y_test = train_test_split(X_resampled, y_resampled, \n",
    "                                                    stratify=y_resampled, test_size=0.3, random_state=42)\n",
    "\n",
    "X_train.shape, X_test.shape, y_train.shape, y_test.shape"
   ]
  },
  {
   "cell_type": "markdown",
   "id": "41d05070",
   "metadata": {},
   "source": [
    "### Standardization"
   ]
  },
  {
   "cell_type": "code",
   "execution_count": null,
   "id": "8a58b6f1",
   "metadata": {},
   "outputs": [],
   "source": [
    "scaler = StandardScaler()\n",
    "X_train_scaled = scaler.fit_transform(X_train)"
   ]
  },
  {
   "cell_type": "markdown",
   "id": "352826df",
   "metadata": {},
   "source": [
    "## Machine Learning Models"
   ]
  },
  {
   "cell_type": "code",
   "execution_count": null,
   "id": "cff3a55c",
   "metadata": {},
   "outputs": [],
   "source": [
    "kf = KFold(n_splits=5, shuffle=True, random_state=42)"
   ]
  },
  {
   "cell_type": "code",
   "execution_count": null,
   "id": "96520e59",
   "metadata": {},
   "outputs": [],
   "source": [
    "log_params = {\n",
    "    'C': [ 100, 1000],\n",
    "    'penalty': ['l1', 'l2'],\n",
    "    'solver': ['liblinear', 'saga', 'sag'],\n",
    "    'class_weight': ['balanced', None]\n",
    "    \n",
    "}\n",
    "\n",
    "clf = LogisticRegression(max_iter=5000)\n",
    "log_grid = GridSearchCV(\n",
    "    clf, \n",
    "    log_params, \n",
    "    scoring='f1',\n",
    "    return_train_score=True,\n",
    "    cv=kf\n",
    ")\n",
    "log_grid.fit(X_train, y_train)\n",
    "print(\"Best Parameters: \\n\", log_grid.best_params_)\n",
    "log_preds = log_grid.predict(X_test)"
   ]
  },
  {
   "cell_type": "code",
   "execution_count": null,
   "id": "3bae7412",
   "metadata": {},
   "outputs": [],
   "source": [
    "nb_params = {\n",
    "    'var_smoothing': [1e-9, 1e-8, 1e-7, 1e-6, 1e-5],\n",
    "    'priors': [None , [0.5, 0.5], [0.6, 0.4], [0.4, 0.6]]\n",
    "}\n",
    "\n",
    "gnb = GaussianNB()\n",
    "nb_grid = GridSearchCV(\n",
    "    gnb, \n",
    "    nb_params, \n",
    "    scoring='f1',\n",
    "    return_train_score=True,\n",
    "    cv=kf\n",
    ")\n",
    "nb_grid.fit(X_train, y_train)\n",
    "print(\"Best Parameters: \\n\", nb_grid.best_params_)\n",
    "naive_preds = nb_grid.predict(X_test)"
   ]
  },
  {
   "cell_type": "code",
   "execution_count": null,
   "id": "8121dfef",
   "metadata": {},
   "outputs": [],
   "source": [
    "dt_params = {\n",
    "    'criterion': ['gini', 'entropy'],\n",
    "    'max_depth': [ 5, 10, 15],\n",
    "    'splitter': ['best', 'random'],\n",
    "    'min_samples_split': [10, 15, 20],\n",
    "    'min_samples_leaf': [5, 10, 15],\n",
    "    'max_features': ['sqrt', 'log2'],\n",
    "    'max_leaf_nodes': [10, 20, 50, 100]\n",
    "}\n",
    "\n",
    "clf = DecisionTreeClassifier()\n",
    "dt_grid = GridSearchCV(\n",
    "    clf, \n",
    "    dt_params, \n",
    "    scoring='f1',\n",
    "    return_train_score=True,\n",
    "    cv=kf\n",
    ")\n",
    "dt_grid.fit(X_train, y_train)\n",
    "print(\"Best Parameters: \\n\", dt_grid.best_params_)\n",
    "tree_preds = dt_grid.predict(X_test)"
   ]
  },
  {
   "cell_type": "code",
   "execution_count": null,
   "id": "56972399",
   "metadata": {},
   "outputs": [],
   "source": [
    "svm_params = {\n",
    "    'C': [0.1, 1, 10, 100, 1000],\n",
    "    'gamma': [1, 0.1, 0.01, 0.001, 0.0001, 'auto'],\n",
    "    'kernel': ['rbf']\n",
    "}\n",
    "\n",
    "svm = SVC(gamma='auto')\n",
    "svm_grid = GridSearchCV(\n",
    "    svm, \n",
    "    svm_params, \n",
    "    scoring='f1',\n",
    "    return_train_score=True\n",
    ")\n",
    "svm_grid.fit(X_train, y_train)\n",
    "print(\"Best Parameters: \\n\", svm_grid.best_params_)\n",
    "svm_preds = svm_grid.predict(X_test)\n"
   ]
  },
  {
   "cell_type": "code",
   "execution_count": null,
   "id": "2e2c3638",
   "metadata": {},
   "outputs": [],
   "source": [
    "knn_params = {\n",
    "    'n_neighbors': [3, 5, 9, 11],\n",
    "    'weights': ['uniform', 'distance'],\n",
    "    'algorithm': ['auto', 'ball_tree', 'kd_tree', 'brute'],\n",
    "    }\n",
    "\n",
    "knn = KNeighborsClassifier()\n",
    "knn_grid = GridSearchCV(\n",
    "    knn, \n",
    "    knn_params, \n",
    "    scoring='f1',\n",
    "    return_train_score=True,\n",
    "    cv=kf\n",
    ")\n",
    "knn_grid.fit(X_train, y_train)\n",
    "print(\"Best Parameters: \\n\", knn_grid.best_params_)\n",
    "knn_preds = knn_grid.predict(X_test)"
   ]
  },
  {
   "cell_type": "markdown",
   "id": "6246ff57",
   "metadata": {},
   "source": [
    "## Ensemble Methods"
   ]
  },
  {
   "cell_type": "markdown",
   "id": "585defde",
   "metadata": {},
   "source": [
    "## Results"
   ]
  },
  {
   "cell_type": "code",
   "execution_count": null,
   "id": "27cbc631-decb-4aa6-89e0-27879bad1822",
   "metadata": {},
   "outputs": [],
   "source": [
    "acc = accuracy_score(y_test, log_preds)\n",
    "prec = precision_score(y_test, log_preds)\n",
    "rec = recall_score(y_test, log_preds)\n",
    "f1 = f1_score(y_test, log_preds)\n",
    "auc = roc_auc_score(y_test, log_preds)\n",
    "\n",
    "naive_acc = accuracy_score(y_test, naive_preds)\n",
    "naive_prec = precision_score(y_test, naive_preds)\n",
    "naive_rec = recall_score(y_test, naive_preds)\n",
    "naive_f1 = f1_score(y_test, naive_preds)\n",
    "naive_auc = roc_auc_score(y_test, naive_preds)\n",
    "\n",
    "svm_acc = accuracy_score(y_test, svm_preds)\n",
    "svm_prec = precision_score(y_test, svm_preds)\n",
    "svm_rec = recall_score(y_test, svm_preds)\n",
    "svm_f1 = f1_score(y_test, svm_preds)\n",
    "svm_auc = roc_auc_score(y_test, svm_preds)\n",
    "\n",
    "tree_acc = accuracy_score(y_test, tree_preds)\n",
    "tree_prec = precision_score(y_test, tree_preds)\n",
    "tree_rec = recall_score(y_test, tree_preds)\n",
    "tree_f1 = f1_score(y_test, tree_preds)\n",
    "tree_auc = roc_auc_score(y_test, tree_preds)\n",
    "\n",
    "knn_acc = accuracy_score(y_test, knn_preds)\n",
    "knn_prec = precision_score(y_test, knn_preds)\n",
    "knn_rec = recall_score(y_test, knn_preds)\n",
    "knn_f1 = f1_score(y_test, knn_preds)\n",
    "knn_auc = roc_auc_score(y_test, knn_preds)\n"
   ]
  },
  {
   "cell_type": "code",
   "execution_count": null,
   "id": "c4b417c9-1464-4e74-9fc2-43133b2dc56b",
   "metadata": {},
   "outputs": [],
   "source": [
    "print(\"Logistic Regression Accuracy: %.4f\" % acc)\n",
    "print(\"Logistic Regression Precision: %.4f\" % prec)\n",
    "print(\"Logistic Regression Recall: %.4f\" % rec)\n",
    "print(\"Logistic Regression F1: %.4f\" % f1)\n",
    "print(\"Logistic Regression AUC: %.4f\" % auc)\n",
    "\n",
    "print(\"\\nNaive Bayes Accuracy: %.4f\" % naive_acc)\n",
    "print(\"Naive Bayes Precision: %.4f\" % naive_prec)\n",
    "print(\"Naive Bayes Recall: %.4f\" % naive_rec)\n",
    "print(\"Naive Bayes F1: %.4f\" % naive_f1)\n",
    "print(\"Naive Bayes AUC: %.4f\" % naive_auc)\n",
    "\n",
    "print(\"\\nSVM Accuracy: %.4f\" % svm_acc)\n",
    "print(\"SVM Precision: %.4f\" % svm_prec)\n",
    "print(\"SVM Recall: %.4f\" % svm_rec)\n",
    "print(\"SVM F1: %.4f\" % svm_f1)\n",
    "print(\"SVM AUC: %.4f\" % svm_auc)\n",
    "\n",
    "print(\"\\nDecision Tree Accuracy: %.4f\" % tree_acc)\n",
    "print(\"Decision Tree Precision: %.4f\" % tree_prec)\n",
    "print(\"Decision Tree Recall: %.4f\" % tree_rec)\n",
    "print(\"Decision Tree F1: %.4f\" % tree_f1)\n",
    "print(\"Decision Tree AUC: %.4f\" % tree_auc)\n",
    "\n",
    "print(\"\\nKNN Accuracy: %.4f\" % knn_acc)\n",
    "print(\"KNN Precision: %.4f\" % knn_prec)\n",
    "print(\"KNN Recall: %.4f\" % knn_rec)\n",
    "print(\"KNN F1: %.4f\" % knn_f1)\n",
    "print(\"KNN AUC: %.4f\" % knn_auc)\n"
   ]
  },
  {
   "cell_type": "markdown",
   "id": "a5c41f19",
   "metadata": {},
   "source": [
    "### Logistic Regression Results"
   ]
  },
  {
   "cell_type": "code",
   "execution_count": null,
   "id": "68f5e96b",
   "metadata": {},
   "outputs": [],
   "source": [
    "print(\"Logistic Regression Accuracy: %.4f\" % acc)\n",
    "print(\"Logistic Regression Precision: %.4f\" % prec)\n",
    "print(\"Logistic Regression Recall: %.4f\" % rec)\n",
    "print(\"Logistic Regression F1: %.4f\" % f1)\n",
    "print(\"Logistic Regression AUC: %.4f\" % auc)\n",
    "\n",
    "log_results = pd.DataFrame(log_grid.cv_results_)\n",
    "log_results.sort_values(by='rank_test_score').head()"
   ]
  },
  {
   "cell_type": "code",
   "execution_count": null,
   "id": "7ad91202",
   "metadata": {},
   "outputs": [],
   "source": [
    "cm_log = confusion_matrix(log_preds, y_test)\n",
    "\n",
    "fig, ax = plt.subplots()\n",
    "\n",
    "sns.heatmap(cm_log, ax=ax, cmap='Blues', annot=True, fmt='g', cbar=False,\n",
    "            xticklabels=['Predicton: 0', 'Predicton: 1'],\n",
    "            yticklabels=['Actual: 0', 'Actual: 1'])\n",
    "\n",
    "plt.show()"
   ]
  },
  {
   "cell_type": "markdown",
   "id": "2aa3e75b",
   "metadata": {},
   "source": [
    "### Naive Bayes Results"
   ]
  },
  {
   "cell_type": "code",
   "execution_count": null,
   "id": "2014d690",
   "metadata": {},
   "outputs": [],
   "source": [
    "print(\"\\nNaive Bayes Accuracy: %.4f\" % naive_acc)\n",
    "print(\"Naive Bayes Precision: %.4f\" % naive_prec)\n",
    "print(\"Naive Bayes Recall: %.4f\" % naive_rec)\n",
    "print(\"Naive Bayes F1: %.4f\" % naive_f1)\n",
    "print(\"Naive Bayes AUC: %.4f\" % naive_auc)\n",
    "\n",
    "\n",
    "nb_results = pd.DataFrame(nb_grid.cv_results_)\n",
    "nb_results.sort_values(by='rank_test_score').head()"
   ]
  },
  {
   "cell_type": "code",
   "execution_count": null,
   "id": "db7ae756",
   "metadata": {},
   "outputs": [],
   "source": [
    "cm_nb = confusion_matrix(naive_preds, y_test)\n",
    "\n",
    "fig, ax = plt.subplots()\n",
    "\n",
    "sns.heatmap(cm_nb, ax=ax, cmap='Blues', annot=True, fmt='g', cbar=False,\n",
    "            xticklabels=['Predicton: 0', 'Predicton: 1'],\n",
    "            yticklabels=['Actual: 0', 'Actual: 1'])\n",
    "\n",
    "plt.show()"
   ]
  },
  {
   "cell_type": "markdown",
   "id": "4d54ab4a",
   "metadata": {},
   "source": [
    "### Support Vector Machine Results"
   ]
  },
  {
   "cell_type": "code",
   "execution_count": null,
   "id": "b6114ee6",
   "metadata": {},
   "outputs": [],
   "source": [
    "print(\"\\nSVM Accuracy: %.4f\" % svm_acc)\n",
    "print(\"SVM Precision: %.4f\" % svm_prec)\n",
    "print(\"SVM Recall: %.4f\" % svm_rec)\n",
    "print(\"SVM F1: %.4f\" % svm_f1)\n",
    "print(\"SVM AUC: %.4f\" % svm_auc)\n",
    "\n",
    "svm_results = pd.DataFrame(svm_grid.cv_results_)\n",
    "svm_results.sort_values(by='rank_test_score').head()"
   ]
  },
  {
   "cell_type": "code",
   "execution_count": null,
   "id": "d4bc4fca",
   "metadata": {},
   "outputs": [],
   "source": [
    "cm_svc = confusion_matrix(svm_preds, y_test)\n",
    "\n",
    "fig, ax = plt.subplots()\n",
    "\n",
    "sns.heatmap(cm_svc, ax=ax, cmap='Blues', annot=True, fmt='g', cbar=False,\n",
    "            xticklabels=['Predicton: 0', 'Predicton: 1'],\n",
    "            yticklabels=['Actual: 0', 'Actual: 1'])\n",
    "\n",
    "plt.show()"
   ]
  },
  {
   "cell_type": "markdown",
   "id": "d5e9db70",
   "metadata": {},
   "source": [
    "### Decision Tree Results"
   ]
  },
  {
   "cell_type": "code",
   "execution_count": null,
   "id": "fbfe25a4",
   "metadata": {},
   "outputs": [],
   "source": [
    "print(\"\\nDecision Tree Accuracy: %.4f\" % tree_acc)\n",
    "print(\"Decision Tree Precision: %.4f\" % tree_prec)\n",
    "print(\"Decision Tree Recall: %.4f\" % tree_rec)\n",
    "print(\"Decision Tree F1: %.4f\" % tree_f1)\n",
    "print(\"Decision Tree AUC: %.4f\" % tree_auc)\n",
    "\n",
    "dt_results = pd.DataFrame(dt_grid.cv_results_)\n",
    "dt_results.sort_values(by='rank_test_score')"
   ]
  },
  {
   "cell_type": "code",
   "execution_count": null,
   "id": "1050d234",
   "metadata": {},
   "outputs": [],
   "source": [
    "cm_dt = confusion_matrix(tree_preds, y_test)\n",
    "\n",
    "fig, ax = plt.subplots()\n",
    "\n",
    "sns.heatmap(cm_dt, ax=ax, cmap='Blues', annot=True, fmt='g', cbar=False,\n",
    "            xticklabels=['Predicton: 0', 'Predicton: 1'],\n",
    "            yticklabels=['Actual: 0', 'Actual: 1'])\n",
    "\n",
    "plt.show()"
   ]
  },
  {
   "cell_type": "markdown",
   "id": "12ceed1e",
   "metadata": {},
   "source": [
    "### K-Nearest Neighbors Results"
   ]
  },
  {
   "cell_type": "code",
   "execution_count": null,
   "id": "8ffb9261",
   "metadata": {},
   "outputs": [],
   "source": [
    "print(\"\\nKNN Accuracy: %.4f\" % knn_acc)\n",
    "print(\"KNN Precision: %.4f\" % knn_prec)\n",
    "print(\"KNN Recall: %.4f\" % knn_rec)\n",
    "print(\"KNN F1: %.4f\" % knn_f1)\n",
    "print(\"KNN AUC: %.4f\" % knn_auc)\n",
    "\n",
    "knn_results = pd.DataFrame(knn_grid.cv_results_)\n",
    "knn_results.sort_values(by='rank_test_score').head()"
   ]
  },
  {
   "cell_type": "code",
   "execution_count": null,
   "id": "0e25ce5a",
   "metadata": {},
   "outputs": [],
   "source": [
    "cm_knn = confusion_matrix(knn_preds, y_test)\n",
    "\n",
    "fig, ax = plt.subplots()\n",
    "\n",
    "sns.heatmap(cm_knn, ax=ax, cmap='Blues', annot=True, fmt='g', cbar=False,\n",
    "            xticklabels=['Predicton: 0', 'Predicton: 1'],\n",
    "            yticklabels=['Actual: 0', 'Actual: 1'])\n",
    "\n",
    "plt.show()"
   ]
  }
 ],
 "metadata": {
  "kernelspec": {
   "display_name": "Python 3 (ipykernel)",
   "language": "python",
   "name": "python3"
  },
  "language_info": {
   "codemirror_mode": {
    "name": "ipython",
    "version": 3
   },
   "file_extension": ".py",
   "mimetype": "text/x-python",
   "name": "python",
   "nbconvert_exporter": "python",
   "pygments_lexer": "ipython3",
   "version": "3.12.1"
  }
 },
 "nbformat": 4,
 "nbformat_minor": 5
}
